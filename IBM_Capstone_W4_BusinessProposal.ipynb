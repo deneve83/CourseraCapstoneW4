{
    "cells": [
        {
            "cell_type": "markdown",
            "metadata": {
                "collapsed": true
            },
            "source": " ## The Battle of Neighborhoods - Business Proposal "
        },
        {
            "cell_type": "markdown",
            "metadata": {},
            "source": "# Introduction:"
        },
        {
            "cell_type": "markdown",
            "metadata": {},
            "source": "The goal and purpose of this proposal is to notionally facilitate the exploration of venues around neighborhoods. With large numbers of immigrants and an increasingly solitary society brought about by COVID and increased internet use, people could use help finding businesses in a neighborhood. I am choosing in Scarborough, Toronto, Quebec for this proposal.\n\nToronto has transformed significantly in the past few years due to significant popuilation growth. The need is therefore great for potential residents to perform due diligence to select areas with affordable housing and good schools (for those with children). This project seeks to facilitate selection for those who are looking for the best possible neighborhood. Some factors we will consider are ease of access to cafes, schools, markets, pharmacies, grocery stores, mall/retail, theatres, hospitals, similar people, etc.\n\nThis project will accomplish its goal by creating an analysis of features for people migrating to Scarborough and searching for a best neighborhood and providing a comparative analysis between neighborhoods. The features will include median housing price and better school according to ratings, crime rates of that particular area, road networking, weather conditions, emergency management, water resources, and recreational facilities.\n"
        },
        {
            "cell_type": "code",
            "execution_count": null,
            "metadata": {},
            "outputs": [],
            "source": ""
        }
    ],
    "metadata": {
        "kernelspec": {
            "display_name": "Python 3.7",
            "language": "python",
            "name": "python3"
        },
        "language_info": {
            "codemirror_mode": {
                "name": "ipython",
                "version": 3
            },
            "file_extension": ".py",
            "mimetype": "text/x-python",
            "name": "python",
            "nbconvert_exporter": "python",
            "pygments_lexer": "ipython3",
            "version": "3.7.10"
        }
    },
    "nbformat": 4,
    "nbformat_minor": 1
}