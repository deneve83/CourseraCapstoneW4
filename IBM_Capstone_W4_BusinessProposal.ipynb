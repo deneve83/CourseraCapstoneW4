{
    "cells": [
        {
            "metadata": {
                "collapsed": true
            },
            "cell_type": "markdown",
            "source": " ## The Battle of Neighborhoods - Business Proposal "
        },
        {
            "metadata": {},
            "cell_type": "markdown",
            "source": "# Introduction:"
        },
        {
            "metadata": {},
            "cell_type": "markdown",
            "source": "The goal and purpose of this proposal is to notionally facilitate the exploration of restaurants around a few cities in California. With large numbers of immigrants and an increasingly solitary society brought about by COVID and increased internet use, people could use help finding popular restaurant spots. I am choosing Oakland, San Diego, and Emeryville for this proposal.\n\nBecause the restaurant industry has been decimated due to mandatory shutdowns, now would be a good opportunity for investors and entrepreneurs to make a diligent investment in restaurant. The type of restaurant would be an important criteria when scouting a city for a potential property.\n\nThis project seeks to address the question of how we can discern how accurately we can predict the amount of \"likes\" a new restaurant opening in this region can expect to have based on the type of cuisine it will serve and which city in California it will open in. For this project I analyzed and modeled the data using machine learning by comparing both linear and logistic regressions to see which method yielded better predictive capabilities after training and testing."
        },
        {
            "metadata": {},
            "cell_type": "code",
            "source": "",
            "execution_count": null,
            "outputs": []
        }
    ],
    "metadata": {
        "kernelspec": {
            "name": "python3",
            "display_name": "Python 3.7",
            "language": "python"
        },
        "language_info": {
            "name": "python",
            "version": "3.7.10",
            "mimetype": "text/x-python",
            "codemirror_mode": {
                "name": "ipython",
                "version": 3
            },
            "pygments_lexer": "ipython3",
            "nbconvert_exporter": "python",
            "file_extension": ".py"
        }
    },
    "nbformat": 4,
    "nbformat_minor": 1
}