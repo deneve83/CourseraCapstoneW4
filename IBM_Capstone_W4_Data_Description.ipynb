{
    "cells": [
        {
            "metadata": {
                "collapsed": true
            },
            "cell_type": "markdown",
            "source": "## Data:\n\nUpon completion we will name the dataframe 'raw_dataset' .  This is the most complete compiled form prior to the use of any processing for analysis and machine learning.\n\nWe will begin by retrieving the geographical coordinates of three cities in California, to include: (Oakland, Emeryville, and San Diego). We will then make use of the Foursquare API to retrieve the the URLs that give us the raw data in JSON form. Each respective URL will then be scraped for the columns: 'name', 'categories', 'latitude', 'longitude', and'id' for each city. The city column will help us when separating where the restaurants are located.\n\nTo constrain the amount of data for the scope of this project, I decided to focus on those restaurants found within a 1000 meter radius from the coordinates provided by the geolocator. The Foursquare API gives us with more venue categories than we need so we will tidy our results by removing non-restaurant rows. Pulling the 'likes' data is necessary for us to make our final decision. We don't want to be pulling information that will be discarded since it is not needed for our analysis.\n\nWe will use the 'id' column in order to pull the 'likes' using the API and append the information into the dataframe. We will then conclude by naming the dataframe 'raw_dataset', which we used in the machine learning portion of the project."
        },
        {
            "metadata": {},
            "cell_type": "markdown",
            "source": "## Methods:\n\nBoth linear and logistic regression were used to train and test the data. Linear regression was used to predict the number of 'likes' a new restaurant in this region will acquire. Sci-Kit Learn was employed for this stage.\n\nLogistic regression was used as the classification method. Because we used binning when classifying by number of 'likes', we are able to make use of multinomial logistic regression to perform the analysis. Although the ranges are discrete categories, they can be considered ordinal in nature. The logistic regression will need to be specified as being both multinomial and ordinal. The Sci-Kit Learn package is well suited for this."
        },
        {
            "metadata": {},
            "cell_type": "code",
            "source": "",
            "execution_count": null,
            "outputs": []
        }
    ],
    "metadata": {
        "kernelspec": {
            "name": "python3",
            "display_name": "Python 3.7",
            "language": "python"
        },
        "language_info": {
            "name": "python",
            "version": "3.7.10",
            "mimetype": "text/x-python",
            "codemirror_mode": {
                "name": "ipython",
                "version": 3
            },
            "pygments_lexer": "ipython3",
            "nbconvert_exporter": "python",
            "file_extension": ".py"
        }
    },
    "nbformat": 4,
    "nbformat_minor": 1
}